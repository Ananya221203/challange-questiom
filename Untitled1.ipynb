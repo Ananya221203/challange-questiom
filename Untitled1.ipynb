{
  "nbformat": 4,
  "nbformat_minor": 0,
  "metadata": {
    "colab": {
      "provenance": [],
      "authorship_tag": "ABX9TyMJ9GeRfzIHXm9upUCQPcos",
      "include_colab_link": true
    },
    "kernelspec": {
      "name": "python3",
      "display_name": "Python 3"
    },
    "language_info": {
      "name": "python"
    }
  },
  "cells": [
    {
      "cell_type": "markdown",
      "metadata": {
        "id": "view-in-github",
        "colab_type": "text"
      },
      "source": [
        "<a href=\"https://colab.research.google.com/github/Ananya221203/challange-questiom/blob/main/Untitled1.ipynb\" target=\"_parent\"><img src=\"https://colab.research.google.com/assets/colab-badge.svg\" alt=\"Open In Colab\"/></a>"
      ]
    },
    {
      "cell_type": "code",
      "source": [
        "#challange question\n",
        "# program to sort the list of hetrogeneous data\n",
        "l=[\"ram\",\"sham\",5,7,8]\n",
        "l=[str(i) for i in l]\n",
        "\n",
        "print(l)\n",
        "l.sort()\n",
        "print(l)\n",
        "\n",
        "l1=[]\n",
        "for i in l:\n",
        "  try:\n",
        "    l1.append(int(i))\n",
        "  except:\n",
        "    l1.append(i)\n",
        "print(l1)"
      ],
      "metadata": {
        "colab": {
          "base_uri": "https://localhost:8080/"
        },
        "id": "i0uA156MxAQ9",
        "outputId": "4ce7f110-7f85-4a80-91e9-331c94bc96c2"
      },
      "execution_count": 4,
      "outputs": [
        {
          "output_type": "stream",
          "name": "stdout",
          "text": [
            "['ram', 'sham', '5', '7', '8']\n",
            "['5', '7', '8', 'ram', 'sham']\n",
            "total time 2047.1562118530273\n"
          ]
        }
      ]
    }
  ]
}